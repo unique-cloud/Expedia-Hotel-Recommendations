{
 "cells": [
  {
   "cell_type": "code",
   "execution_count": 23,
   "metadata": {},
   "outputs": [],
   "source": [
    "import datetime\n",
    "import pandas as pd\n",
    "import numpy as np\n",
    "import matplotlib.pyplot as plt\n",
    "import seaborn as sns\n",
    "\n",
    "from sklearn import preprocessing\n",
    "# Feature Scaling\n",
    "from sklearn.preprocessing import StandardScaler\n",
    "# One hot encoder\n",
    "from sklearn.preprocessing import OneHotEncoder\n",
    "\n",
    "# PCA\n",
    "from sklearn.decomposition import PCA\n",
    "\n",
    "# Grid Search\n",
    "from sklearn.model_selection import GridSearchCV\n",
    "from sklearn.metrics import classification_report\n",
    "\n",
    "# Random Forest\n",
    "from sklearn.ensemble import RandomForestClassifier\n",
    "# SVM\n",
    "from sklearn import svm\n",
    "# Naive Bayes\n",
    "from sklearn.naive_bayes import GaussianNB\n",
    "# ANN\n",
    "import tensorflow as tf\n",
    "from tensorflow import keras\n",
    "\n",
    "import ml_metrics as metrics"
   ]
  },
  {
   "cell_type": "markdown",
   "metadata": {},
   "source": [
    "### Read in data"
   ]
  },
  {
   "cell_type": "code",
   "execution_count": 24,
   "metadata": {},
   "outputs": [],
   "source": [
    "def read_data():\n",
    "    train = pd.read_csv('../train_slim.csv', sep=',')\n",
    "    test = pd.read_csv('../test_slim.csv', sep=',')\n",
    "    dest = pd.read_csv('../destinations.csv')\n",
    "    return train, test, dest"
   ]
  },
  {
   "cell_type": "markdown",
   "metadata": {},
   "source": [
    "### Feature Engineering"
   ]
  },
  {
   "cell_type": "markdown",
   "metadata": {},
   "source": [
    "### Missing data"
   ]
  },
  {
   "cell_type": "code",
   "execution_count": 25,
   "metadata": {},
   "outputs": [],
   "source": [
    "def missing_data(df):\n",
    "    df.dropna(inplace=True)"
   ]
  },
  {
   "cell_type": "markdown",
   "metadata": {},
   "source": [
    "### Convert time"
   ]
  },
  {
   "cell_type": "code",
   "execution_count": 26,
   "metadata": {},
   "outputs": [],
   "source": [
    "def convert_time(df):\n",
    "    df[\"date_time\"] = pd.to_datetime(df[\"date_time\"])\n",
    "    df[\"srch_ci\"] = pd.to_datetime(df[\"srch_ci\"], format='%Y-%m-%d', errors=\"coerce\")\n",
    "    df[\"srch_co\"] = pd.to_datetime(df[\"srch_co\"], format='%Y-%m-%d', errors=\"coerce\")\n",
    "    df[\"stay_span\"] = (df[\"srch_co\"] - df[\"srch_ci\"]).astype('timedelta64[h]')\n",
    "    \n",
    "    cols = [\"month\", \"day\", \"dayofweek\"]\n",
    "    for col in cols:\n",
    "        df[\"ci_{0}\".format(col)] = getattr(df[\"srch_ci\"].dt, col)\n",
    "        # df[\"co_{0}\".format(col)] = getattr(df[\"srch_co\"].dt, col)\n",
    "        \n",
    "    cols = [\"date_time\", \"srch_ci\", \"srch_co\"]\n",
    "    df.drop(cols, axis=1, inplace=True)"
   ]
  },
  {
   "cell_type": "markdown",
   "metadata": {},
   "source": [
    "### Draw Correlation Matrix"
   ]
  },
  {
   "cell_type": "code",
   "execution_count": 27,
   "metadata": {},
   "outputs": [],
   "source": [
    "def draw_corr(df):\n",
    "    # Compute the correlation matrix\n",
    "    corr = df.corr()\n",
    "    \n",
    "    sns.set(style=\"white\")   \n",
    "    # Set up the matplotlib figure\n",
    "    f, ax = plt.subplots(figsize=(11, 9))\n",
    "    \n",
    "    # Generate a custom diverging colormap\n",
    "    cmap = sns.diverging_palette(220, 10, as_cmap=True)\n",
    "    \n",
    "    # Draw the heatmap and correct aspect ratio\n",
    "    sns.heatmap(corr, cmap=cmap, vmax=.3, center=0,\n",
    "                square=True, linewidths=.5, cbar_kws={\"shrink\": .5})"
   ]
  },
  {
   "cell_type": "markdown",
   "metadata": {},
   "source": [
    "### PCA"
   ]
  },
  {
   "cell_type": "code",
   "execution_count": 28,
   "metadata": {},
   "outputs": [],
   "source": [
    "def pca(dest):\n",
    "    pca = PCA(n_components=20)\n",
    "    dest_pca = pca.fit_transform(dest[[\"d{0}\".format(i + 1) for i in range(149)]])\n",
    "    dest_pca = pd.DataFrame(dest_pca)\n",
    "    dest_pca[\"srch_destination_id\"] = dest[\"srch_destination_id\"]\n",
    "    \n",
    "    return dest_pca"
   ]
  },
  {
   "cell_type": "markdown",
   "metadata": {},
   "source": [
    "### Merge destination"
   ]
  },
  {
   "cell_type": "code",
   "execution_count": 29,
   "metadata": {},
   "outputs": [],
   "source": [
    "def merge_dest(df):\n",
    "    df = pd.merge(df, dest, how='left', on='srch_destination_id')\n",
    "    return df"
   ]
  },
  {
   "cell_type": "markdown",
   "metadata": {},
   "source": [
    "### Create distance features"
   ]
  },
  {
   "cell_type": "code",
   "execution_count": 30,
   "metadata": {},
   "outputs": [],
   "source": [
    "# Apply to test set\n",
    "def combine_distance(df):\n",
    "    pieces = [df.groupby(['srch_destination_id','hotel_country','hotel_market','hotel_cluster'])['is_booking'].agg(['sum','count'])]\n",
    "    agg = pd.concat(pieces).groupby(level=[0,1,2,3]).sum()\n",
    "    agg.dropna(inplace=True)\n",
    "    \n",
    "    agg['sum_and_cnt'] = 0.85*agg['sum'] + 0.15*agg['count']\n",
    "    agg = agg.groupby(level=[0,1,2]).apply(lambda x: x.astype(float)/x.sum())\n",
    "    agg.reset_index(inplace=True)\n",
    "    \n",
    "    agg_pivot = agg.pivot_table(index=['srch_destination_id','hotel_country','hotel_market'], columns='hotel_cluster', values='sum_and_cnt').reset_index()\n",
    "    \n",
    "    df = pd.merge(df, agg_pivot, how='left', on=['srch_destination_id','hotel_country','hotel_market'])\n",
    "    df.fillna(0, inplace=True)\n",
    "    \n",
    "    return df"
   ]
  },
  {
   "cell_type": "markdown",
   "metadata": {},
   "source": [
    "### Drop non-booking events"
   ]
  },
  {
   "cell_type": "code",
   "execution_count": 31,
   "metadata": {},
   "outputs": [],
   "source": [
    "def drop_non_booking(df):\n",
    "    df = df.loc[df['is_booking'] == 1]\n",
    "    df.drop(['is_booking'], axis=1, inplace=True)\n",
    "    return df"
   ]
  },
  {
   "cell_type": "markdown",
   "metadata": {},
   "source": [
    "### Drop user id"
   ]
  },
  {
   "cell_type": "code",
   "execution_count": 32,
   "metadata": {},
   "outputs": [],
   "source": [
    "def drop_user_id(df):\n",
    "    df.drop(['user_id'], axis=1, inplace=True)\n",
    "    return df"
   ]
  },
  {
   "cell_type": "markdown",
   "metadata": {},
   "source": [
    "### Feature Scaling"
   ]
  },
  {
   "cell_type": "code",
   "execution_count": 33,
   "metadata": {},
   "outputs": [],
   "source": [
    "def standard_scale(a, b):\n",
    "    sc = StandardScaler(copy=False)\n",
    "    X_train = sc.fit_transform(a)\n",
    "    X_test = sc.transform(b)\n",
    "    \n",
    "    return X_train, X_test"
   ]
  },
  {
   "cell_type": "markdown",
   "metadata": {},
   "source": [
    "### One_hot_encode"
   ]
  },
  {
   "cell_type": "code",
   "execution_count": 34,
   "metadata": {},
   "outputs": [],
   "source": [
    "def one_hot_encode(col): \n",
    "    # encode class values as integers\n",
    "    encoder = OneHotEncoder()\n",
    "    encoder.fit(col.reshape(-1, 1))\n",
    "    col_dummy = encoder.transform(col.reshape(-1, 1)).toarray()\n",
    "    return col_dummy"
   ]
  },
  {
   "cell_type": "code",
   "execution_count": 35,
   "metadata": {},
   "outputs": [],
   "source": [
    "def get_top5(a):\n",
    "    idx = np.argpartition(a, -5)[-5:]\n",
    "    idx = idx[np.argsort(-a[idx])]\n",
    "    return idx\n",
    "\n",
    "def mapk5(y_true, y_pred):\n",
    "    predictions = np.apply_along_axis(get_top5, axis=1, arr=y_pred)\n",
    "    target = [[l] for l in y_true]\n",
    "    acc = metrics.mapk(target, predictions, k=5)\n",
    "    return acc"
   ]
  },
  {
   "cell_type": "markdown",
   "metadata": {},
   "source": [
    "### Base line"
   ]
  },
  {
   "cell_type": "code",
   "execution_count": 36,
   "metadata": {},
   "outputs": [],
   "source": [
    "def baseline(train, test):\n",
    "    most_common_clusters = list(train.hotel_cluster.value_counts().head().index)\n",
    "    predictions = [most_common_clusters for i in range(test.shape[0])]\n",
    "    target = [[l] for l in test[\"hotel_cluster\"]]\n",
    "    print('MAPK5:', metrics.mapk(target, predictions, k=5))"
   ]
  },
  {
   "cell_type": "markdown",
   "metadata": {},
   "source": [
    "### Naive Bayes"
   ]
  },
  {
   "cell_type": "code",
   "execution_count": 37,
   "metadata": {},
   "outputs": [],
   "source": [
    "def NB_Model(X_train, y_train, X_test, y_test):\n",
    "    # Set the parameters\n",
    "    tuned_parameters = [{'priors': [None]}]\n",
    "    \n",
    "    print(\"# Tuning hyper-parameters for accuracy\")\n",
    "    print\n",
    "    \n",
    "    clf = GridSearchCV(GaussianNB(), tuned_parameters, cv=5, scoring='accuracy')\n",
    "    clf.fit(X_train, y_train)\n",
    "    \n",
    "    print(\"Best parameters set found on development set:\")\n",
    "    print\n",
    "    print(clf.best_params_)\n",
    "    print\n",
    "    print(\"Grid scores on development set:\")\n",
    "    print\n",
    "    means = clf.cv_results_['mean_test_score']\n",
    "    stds = clf.cv_results_['std_test_score']\n",
    "    for mean, std, params in zip(means, stds, clf.cv_results_['params']):\n",
    "        print(\"%0.3f (+/-%0.03f) for %r\" % (mean, std * 2, params))\n",
    "        print\n",
    "    \n",
    "    print(\"Detailed classification report:\")\n",
    "    print\n",
    "    print(\"The model is trained on the full development set.\")\n",
    "    print(\"The scores are computed on the full evaluation set.\")\n",
    "    print\n",
    "    y_true, y_pred = y_test, clf.predict(X_test)\n",
    "    print(classification_report(y_true, y_pred))\n",
    "    print\n",
    "    y_true, y_pred = y_test, clf.predict_proba(X_test)\n",
    "    acc_mapk5 = mapk5(y_true, y_pred)\n",
    "    print('MAPK5:', acc_mapk5)\n",
    "    print\n",
    "    \n",
    "    return acc_mapk5"
   ]
  },
  {
   "cell_type": "markdown",
   "metadata": {},
   "source": [
    "### SVM"
   ]
  },
  {
   "cell_type": "code",
   "execution_count": 79,
   "metadata": {},
   "outputs": [],
   "source": [
    "def SVM_Model(X_train, y_train, X_test, y_test):\n",
    "    # Set the parameters\n",
    "    tuned_parameters = [{'decision_function_shape': ['ovo']}]\n",
    "\n",
    "    print(\"# Tuning hyper-parameters for accuracy\")\n",
    "    print()\n",
    "\n",
    "    clf = GridSearchCV(svm.SVC(probability=True), tuned_parameters, cv=5, scoring='accuracy')\n",
    "    clf.fit(X_train, y_train)\n",
    "    \n",
    "    print(\"Best parameters set found on development set:\")\n",
    "    print\n",
    "    print(clf.best_params_)\n",
    "    print\n",
    "    print(\"Grid scores on development set:\")\n",
    "    print\n",
    "    means = clf.cv_results_['mean_test_score']\n",
    "    stds = clf.cv_results_['std_test_score']\n",
    "    for mean, std, params in zip(means, stds, clf.cv_results_['params']):\n",
    "        print(\"%0.3f (+/-%0.03f) for %r\" % (mean, std * 2, params))\n",
    "        print()\n",
    "    \n",
    "    print(\"Detailed classification report:\")\n",
    "    print\n",
    "    print(\"The model is trained on the full development set.\")\n",
    "    print(\"The scores are computed on the full evaluation set.\")\n",
    "    print\n",
    "    y_true, y_pred = y_test, clf.predict(X_test)\n",
    "    print(classification_report(y_true, y_pred))\n",
    "    print\n",
    "    y_true, y_pred = y_test, clf.predict_proba(X_test)\n",
    "    acc_mapk5 = mapk5(y_true, y_pred)\n",
    "    print('MAPK5:', acc_mapk5)\n",
    "    print\n",
    "    \n",
    "    return acc_mapk5"
   ]
  },
  {
   "cell_type": "markdown",
   "metadata": {},
   "source": [
    "### Random Forest"
   ]
  },
  {
   "cell_type": "code",
   "execution_count": 39,
   "metadata": {},
   "outputs": [],
   "source": [
    "def RF_Model(X_train, y_train, X_test, y_test):\n",
    "    # Set the parameters\n",
    "    tuned_parameters = [{'n_estimators': [100], 'max_depth': [10]}]\n",
    "    \n",
    "    \n",
    "    print(\"# Tuning hyper-parameters for accuracy\")\n",
    "    print\n",
    "    \n",
    "    clf = GridSearchCV(RandomForestClassifier(random_state=0), tuned_parameters, cv=5, scoring='accuracy')\n",
    "    clf.fit(X_train, y_train)\n",
    "    \n",
    "    print(\"Best parameters set found on development set:\")\n",
    "    print\n",
    "    print(clf.best_params_)\n",
    "    print\n",
    "    print(\"Grid scores on development set:\")\n",
    "    print\n",
    "    means = clf.cv_results_['mean_test_score']\n",
    "    stds = clf.cv_results_['std_test_score']\n",
    "    for mean, std, params in zip(means, stds, clf.cv_results_['params']):\n",
    "        print(\"%0.3f (+/-%0.03f) for %r\" % (mean, std * 2, params))\n",
    "        print\n",
    "    \n",
    "    print(\"Detailed classification report:\")\n",
    "    print\n",
    "    print(\"The model is trained on the full development set.\")\n",
    "    print(\"The scores are computed on the full evaluation set.\")\n",
    "    print\n",
    "    y_true, y_pred = y_test, clf.predict(X_test)\n",
    "    print(classification_report(y_true, y_pred))\n",
    "    print\n",
    "    y_true, y_pred = y_test, clf.predict_proba(X_test)\n",
    "    acc_mapk5 = mapk5(y_true, y_pred)\n",
    "    print('MAPK5:', acc_mapk5)\n",
    "    print\n",
    "        \n",
    "    return acc_mapk5"
   ]
  },
  {
   "cell_type": "markdown",
   "metadata": {},
   "source": [
    "### ANN"
   ]
  },
  {
   "cell_type": "code",
   "execution_count": 54,
   "metadata": {},
   "outputs": [],
   "source": [
    "def ANN_Model(X_train, y_train, X_test, y_test, y_train_dummy, y_test_dummy):\n",
    "    model = keras.models.Sequential([\n",
    "        keras.layers.Dense(75, activation=tf.nn.relu),\n",
    "        keras.layers.Dense(75, activation=tf.nn.relu),\n",
    "        keras.layers.Dense(75, activation=tf.nn.relu),\n",
    "        keras.layers.Dense(100, activation=tf.nn.softmax)\n",
    "    ])\n",
    "    \n",
    "    model.compile(optimizer='adam',\n",
    "                      loss='categorical_crossentropy',\n",
    "                      metrics=['accuracy'])\n",
    "    \n",
    "    model.fit(X_train, y_train_dummy, epochs=50, batch_size=10)\n",
    "    \n",
    "    test_loss, test_acc = model.evaluate(X_test, y_test_dummy)\n",
    "    print('Test accuracy:', test_acc)\n",
    "    \n",
    "    y_true, y_pred = y_test, model.predict(X_test)\n",
    "    acc_mapk5 = mapk5(y_true, y_pred)\n",
    "    print('MAPK5:', acc_mapk5)\n",
    "    print\n",
    "    \n",
    "    return acc_mapk5"
   ]
  },
  {
   "cell_type": "markdown",
   "metadata": {},
   "source": [
    "### Baseline"
   ]
  },
  {
   "cell_type": "code",
   "execution_count": 41,
   "metadata": {},
   "outputs": [
    {
     "name": "stdout",
     "output_type": "stream",
     "text": [
      "('MAPK5:', 0.062291108559765274)\n"
     ]
    }
   ],
   "source": [
    "# read data\n",
    "train, test, dest = read_data()\n",
    "baseline(train, test)"
   ]
  },
  {
   "cell_type": "markdown",
   "metadata": {},
   "source": [
    "### Correlation Matrix"
   ]
  },
  {
   "cell_type": "code",
   "execution_count": 42,
   "metadata": {},
   "outputs": [
    {
     "data": {
      "image/png": "[encoded data removed]",
      "text/plain": [
       "<Figure size 792x648 with 2 Axes>"
      ]
     },
     "metadata": {},
     "output_type": "display_data"
    }
   ],
   "source": [
    "train, test, dest = read_data()\n",
    "draw_corr(train)"
   ]
  },
  {
   "cell_type": "markdown",
   "metadata": {},
   "source": [
    "### Train with basic data preprocessing"
   ]
  },
  {
   "cell_type": "code",
   "execution_count": 71,
   "metadata": {},
   "outputs": [
    {
     "name": "stderr",
     "output_type": "stream",
     "text": [
      "/usr/local/lib/python2.7/dist-packages/ipykernel_launcher.py:4: DataConversionWarning: Data with input dtype int64, float64 were all converted to float64 by StandardScaler.\n",
      "  after removing the cwd from sys.path.\n"
     ]
    }
   ],
   "source": [
    "train, test, dest = read_data()\n",
    "\n",
    "convert_time(train)\n",
    "convert_time(test)\n",
    "\n",
    "missing_data(train)\n",
    "missing_data(test)\n",
    "\n",
    "y_train = train.loc[:, \"hotel_cluster\"].values\n",
    "X_train = train.drop(\"hotel_cluster\", axis=1)\n",
    "y_test = test.loc[:, \"hotel_cluster\"].values\n",
    "X_test = test.drop(\"hotel_cluster\", axis=1)\n",
    "\n",
    "X_train, X_test = standard_scale(X_train, X_test)"
   ]
  },
  {
   "cell_type": "code",
   "execution_count": 72,
   "metadata": {},
   "outputs": [
    {
     "name": "stdout",
     "output_type": "stream",
     "text": [
      "# Tuning hyper-parameters for accuracy\n",
      "\n",
      "Best parameters set found on development set:\n",
      "\n",
      "{'priors': None}\n",
      "\n",
      "Grid scores on development set:\n",
      "\n",
      "0.052 (+/-0.008) for {'priors': None}\n",
      "\n",
      "Detailed classification report:\n",
      "\n",
      "The model is trained on the full development set.\n",
      "The scores are computed on the full evaluation set.\n",
      "\n",
      "              precision    recall  f1-score   support\n",
      "\n",
      "           0       0.10      0.02      0.04        44\n",
      "           1       0.11      0.02      0.04        83\n",
      "           2       0.04      0.11      0.06        65\n",
      "           3       0.00      0.00      0.00        12\n",
      "           4       0.00      0.00      0.00        83\n",
      "           5       0.00      0.00      0.00        54\n",
      "           6       0.00      0.00      0.00        74\n",
      "           7       0.00      0.00      0.00        62\n",
      "           8       0.80      0.20      0.32        20\n",
      "           9       0.00      0.00      0.00        70\n",
      "          10       0.00      0.00      0.00        47\n",
      "          11       0.00      0.00      0.00        37\n",
      "          12       0.00      0.00      0.00        18\n",
      "          13       0.00      0.00      0.00        96\n",
      "          14       0.00      0.00      0.00        26\n",
      "          15       0.02      0.02      0.02        61\n",
      "          16       0.00      0.00      0.00       130\n",
      "          17       0.00      0.00      0.00        35\n",
      "          18       0.00      0.00      0.00       128\n",
      "          19       0.06      0.12      0.08        85\n",
      "          20       0.00      0.00      0.00        14\n",
      "          21       0.00      0.00      0.00       104\n",
      "          22       0.00      0.00      0.00        34\n",
      "          23       0.00      0.00      0.00        41\n",
      "          24       0.06      0.35      0.11        20\n",
      "          25       0.00      0.00      0.00        63\n",
      "          26       0.00      0.00      0.00        26\n",
      "          27       0.00      0.00      0.00         8\n",
      "          28       0.05      0.05      0.05       142\n",
      "          29       0.00      0.00      0.00        35\n",
      "          30       0.00      0.00      0.00        30\n",
      "          31       0.00      0.00      0.00        29\n",
      "          32       0.03      0.04      0.03        85\n",
      "          33       0.00      0.00      0.00        69\n",
      "          34       0.00      0.00      0.00        46\n",
      "          35       0.00      0.00      0.00         9\n",
      "          36       0.06      0.07      0.06        43\n",
      "          37       0.00      0.00      0.00        75\n",
      "          38       0.00      0.00      0.00        14\n",
      "          39       0.10      0.01      0.02        78\n",
      "          40       0.00      0.00      0.00        54\n",
      "          41       0.00      0.00      0.00        77\n",
      "          42       0.08      0.02      0.04       162\n",
      "          43       0.06      0.20      0.09        56\n",
      "          44       0.00      0.00      0.00        12\n",
      "          45       0.08      0.38      0.13        26\n",
      "          46       0.00      0.00      0.00        38\n",
      "          47       0.00      0.00      0.00        92\n",
      "          48       0.00      0.00      0.00       159\n",
      "          49       0.00      0.00      0.00        51\n",
      "          50       0.00      0.00      0.00        99\n",
      "          51       0.00      0.00      0.00        78\n",
      "          52       0.00      0.00      0.00        24\n",
      "          53       0.00      0.00      0.00         4\n",
      "          54       0.00      0.00      0.00        51\n",
      "          55       0.00      0.00      0.00        66\n",
      "          56       0.00      0.00      0.00        60\n",
      "          57       0.00      0.00      0.00         7\n",
      "          58       0.00      0.00      0.00        35\n",
      "          59       0.04      0.07      0.05        92\n",
      "          60       0.00      0.00      0.00         7\n",
      "          61       0.00      0.00      0.00        28\n",
      "          62       0.00      0.00      0.00        47\n",
      "          63       0.00      0.00      0.00        25\n",
      "          64       0.12      0.21      0.16        61\n",
      "          65       0.25      0.10      0.15        29\n",
      "          66       0.12      0.53      0.19        17\n",
      "          67       0.00      0.00      0.00        29\n",
      "          68       0.00      0.00      0.00        66\n",
      "          69       0.00      0.00      0.00        30\n",
      "          70       0.00      0.00      0.00        66\n",
      "          71       0.00      0.00      0.00        19\n",
      "          72       0.00      0.00      0.00        95\n",
      "          73       0.00      0.00      0.00        28\n",
      "          74       0.02      0.57      0.03         7\n",
      "          75       0.00      0.00      0.00        18\n",
      "          76       0.00      0.00      0.00        29\n",
      "          77       0.00      0.00      0.00        80\n",
      "          78       0.00      0.00      0.00        21\n",
      "          79       0.01      0.24      0.01        34\n",
      "          80       0.00      0.00      0.00        16\n",
      "          81       0.02      0.06      0.03        32\n",
      "          82       0.07      0.37      0.11        57\n",
      "          83       0.00      0.00      0.00        62\n",
      "          84       0.00      0.00      0.00        23\n",
      "          85       0.00      0.00      0.00        22\n",
      "          86       0.00      0.00      0.00        14\n",
      "          87       0.00      0.00      0.00        14\n",
      "          88       0.00      0.00      0.00        12\n",
      "          89       0.00      0.00      0.00         3\n",
      "          90       0.00      0.00      0.00        45\n",
      "          91       0.08      0.45      0.14       266\n",
      "          92       0.00      0.00      0.00        10\n",
      "          93       0.00      0.00      0.00        15\n",
      "          94       0.00      0.00      0.00        73\n",
      "          95       0.01      0.01      0.01       100\n",
      "          96       0.00      0.00      0.00        33\n",
      "          97       1.00      0.02      0.04        47\n",
      "          98       0.00      0.00      0.00        97\n",
      "          99       0.00      0.00      0.00        57\n",
      "\n",
      "   micro avg       0.05      0.05      0.05      5172\n",
      "   macro avg       0.03      0.04      0.02      5172\n",
      "weighted avg       0.03      0.05      0.02      5172\n",
      "\n",
      "\n",
      "('MAPK5:', 0.10551044083526681)\n",
      "\n"
     ]
    },
    {
     "data": {
      "text/plain": [
       "0.10551044083526681"
      ]
     },
     "execution_count": 72,
     "metadata": {},
     "output_type": "execute_result"
    }
   ],
   "source": [
    "NB_Model(X_train, y_train, X_test, y_test)"
   ]
  },
  {
   "cell_type": "code",
   "execution_count": 80,
   "metadata": {},
   "outputs": [
    {
     "name": "stdout",
     "output_type": "stream",
     "text": [
      "# Tuning hyper-parameters for accuracy\n",
      "()\n",
      "Best parameters set found on development set:\n",
      "\n",
      "{'decision_function_shape': 'ovo'}\n",
      "\n",
      "Grid scores on development set:\n",
      "\n",
      "0.077 (+/-0.002) for {'decision_function_shape': 'ovo'}\n",
      "()\n",
      "Detailed classification report:\n",
      "\n",
      "The model is trained on the full development set.\n",
      "The scores are computed on the full evaluation set.\n",
      "\n",
      "              precision    recall  f1-score   support\n",
      "\n",
      "           0       0.24      0.09      0.13        44\n",
      "           1       0.12      0.30      0.17        83\n",
      "           2       0.10      0.11      0.11        65\n",
      "           3       0.00      0.00      0.00        12\n",
      "           4       0.00      0.00      0.00        83\n",
      "           5       0.04      0.06      0.04        54\n",
      "           6       0.00      0.00      0.00        74\n",
      "           7       0.00      0.00      0.00        62\n",
      "           8       0.09      0.05      0.06        20\n",
      "           9       0.00      0.00      0.00        70\n",
      "          10       0.00      0.00      0.00        47\n",
      "          11       0.00      0.00      0.00        37\n",
      "          12       0.10      0.06      0.07        18\n",
      "          13       0.00      0.00      0.00        96\n",
      "          14       0.00      0.00      0.00        26\n",
      "          15       0.00      0.00      0.00        61\n",
      "          16       0.00      0.00      0.00       130\n",
      "          17       0.00      0.00      0.00        35\n",
      "          18       0.00      0.00      0.00       128\n",
      "          19       0.00      0.00      0.00        85\n",
      "          20       0.00      0.00      0.00        14\n",
      "          21       0.00      0.00      0.00       104\n",
      "          22       0.29      0.06      0.10        34\n",
      "          23       0.00      0.00      0.00        41\n",
      "          24       0.00      0.00      0.00        20\n",
      "          25       0.02      0.02      0.02        63\n",
      "          26       0.10      0.04      0.06        26\n",
      "          27       0.00      0.00      0.00         8\n",
      "          28       0.11      0.03      0.04       142\n",
      "          29       0.00      0.00      0.00        35\n",
      "          30       0.00      0.00      0.00        30\n",
      "          31       0.00      0.00      0.00        29\n",
      "          32       0.00      0.00      0.00        85\n",
      "          33       0.00      0.00      0.00        69\n",
      "          34       0.00      0.00      0.00        46\n",
      "          35       0.00      0.00      0.00         9\n",
      "          36       0.10      0.02      0.04        43\n",
      "          37       0.03      0.01      0.02        75\n",
      "          38       0.00      0.00      0.00        14\n",
      "          39       0.17      0.04      0.06        78\n",
      "          40       0.15      0.04      0.06        54\n",
      "          41       0.04      0.09      0.06        77\n",
      "          42       0.00      0.00      0.00       162\n",
      "          43       0.07      0.04      0.05        56\n",
      "          44       0.00      0.00      0.00        12\n",
      "          45       0.07      0.04      0.05        26\n",
      "          46       0.03      0.03      0.03        38\n",
      "          47       0.00      0.00      0.00        92\n",
      "          48       0.05      0.06      0.05       159\n",
      "          49       0.00      0.00      0.00        51\n",
      "          50       0.00      0.00      0.00        99\n",
      "          51       0.00      0.00      0.00        78\n",
      "          52       0.00      0.00      0.00        24\n",
      "          53       0.00      0.00      0.00         4\n",
      "          54       0.00      0.00      0.00        51\n",
      "          55       0.06      0.06      0.06        66\n",
      "          56       0.06      0.03      0.04        60\n",
      "          57       0.00      0.00      0.00         7\n",
      "          58       0.04      0.06      0.05        35\n",
      "          59       0.08      0.08      0.08        92\n",
      "          60       0.00      0.00      0.00         7\n",
      "          61       0.04      0.04      0.04        28\n",
      "          62       0.07      0.11      0.08        47\n",
      "          63       0.17      0.04      0.06        25\n",
      "          64       0.09      0.34      0.15        61\n",
      "          65       0.15      0.45      0.22        29\n",
      "          66       0.12      0.29      0.17        17\n",
      "          67       0.00      0.00      0.00        29\n",
      "          68       0.08      0.06      0.07        66\n",
      "          69       0.00      0.00      0.00        30\n",
      "          70       0.00      0.00      0.00        66\n",
      "          71       0.00      0.00      0.00        19\n",
      "          72       0.00      0.00      0.00        95\n",
      "          73       0.00      0.00      0.00        28\n",
      "          74       0.00      0.00      0.00         7\n",
      "          75       0.00      0.00      0.00        18\n",
      "          76       0.00      0.00      0.00        29\n",
      "          77       0.00      0.00      0.00        80\n",
      "          78       0.04      0.05      0.04        21\n",
      "          79       0.00      0.00      0.00        34\n",
      "          80       0.33      0.19      0.24        16\n",
      "          81       0.00      0.00      0.00        32\n",
      "          82       0.08      0.30      0.13        57\n",
      "          83       0.00      0.00      0.00        62\n",
      "          84       0.00      0.00      0.00        23\n",
      "          85       0.00      0.00      0.00        22\n",
      "          86       0.00      0.00      0.00        14\n",
      "          87       0.00      0.00      0.00        14\n",
      "          88       0.00      0.00      0.00        12\n",
      "          89       0.00      0.00      0.00         3\n",
      "          90       0.00      0.00      0.00        45\n",
      "          91       0.08      0.80      0.14       266\n",
      "          92       0.00      0.00      0.00        10\n",
      "          93       0.00      0.00      0.00        15\n",
      "          94       0.00      0.00      0.00        73\n",
      "          95       0.06      0.07      0.06       100\n",
      "          96       0.00      0.00      0.00        33\n",
      "          97       0.20      0.04      0.07        47\n",
      "          98       0.05      0.01      0.02        97\n",
      "          99       0.08      0.02      0.03        57\n",
      "\n",
      "   micro avg       0.07      0.07      0.07      5172\n",
      "   macro avg       0.04      0.04      0.03      5172\n",
      "weighted avg       0.04      0.07      0.03      5172\n",
      "\n",
      "\n",
      "('MAPK5:', 0.1271461716937355)\n",
      "\n"
     ]
    },
    {
     "data": {
      "text/plain": [
       "0.1271461716937355"
      ]
     },
     "execution_count": 80,
     "metadata": {},
     "output_type": "execute_result"
    }
   ],
   "source": [
    "SVM_Model(X_train, y_train, X_test, y_test)"
   ]
  },
  {
   "cell_type": "code",
   "execution_count": 73,
   "metadata": {},
   "outputs": [
    {
     "name": "stdout",
     "output_type": "stream",
     "text": [
      "# Tuning hyper-parameters for accuracy\n",
      "\n",
      "Best parameters set found on development set:\n",
      "\n",
      "{'n_estimators': 100, 'max_depth': 10}\n",
      "\n",
      "Grid scores on development set:\n",
      "\n",
      "0.118 (+/-0.002) for {'n_estimators': 100, 'max_depth': 10}\n",
      "\n",
      "Detailed classification report:\n",
      "\n",
      "The model is trained on the full development set.\n",
      "The scores are computed on the full evaluation set.\n",
      "\n",
      "              precision    recall  f1-score   support\n",
      "\n",
      "           0       0.25      0.32      0.28        44\n",
      "           1       0.30      0.95      0.46        83\n",
      "           2       0.19      0.12      0.15        65\n",
      "           3       0.00      0.00      0.00        12\n",
      "           4       0.00      0.00      0.00        83\n",
      "           5       0.05      0.07      0.06        54\n",
      "           6       0.00      0.00      0.00        74\n",
      "           7       0.00      0.00      0.00        62\n",
      "           8       0.15      0.15      0.15        20\n",
      "           9       0.00      0.00      0.00        70\n",
      "          10       1.00      0.02      0.04        47\n",
      "          11       0.17      0.03      0.05        37\n",
      "          12       0.00      0.00      0.00        18\n",
      "          13       0.17      0.03      0.05        96\n",
      "          14       0.00      0.00      0.00        26\n",
      "          15       0.10      0.02      0.03        61\n",
      "          16       0.50      0.01      0.02       130\n",
      "          17       0.00      0.00      0.00        35\n",
      "          18       0.00      0.00      0.00       128\n",
      "          19       0.00      0.00      0.00        85\n",
      "          20       0.00      0.00      0.00        14\n",
      "          21       0.12      0.03      0.05       104\n",
      "          22       0.18      0.12      0.14        34\n",
      "          23       0.00      0.00      0.00        41\n",
      "          24       0.00      0.00      0.00        20\n",
      "          25       0.05      0.05      0.05        63\n",
      "          26       0.13      0.23      0.17        26\n",
      "          27       0.50      0.12      0.20         8\n",
      "          28       0.15      0.04      0.06       142\n",
      "          29       0.14      0.11      0.12        35\n",
      "          30       0.08      0.10      0.09        30\n",
      "          31       0.20      0.03      0.06        29\n",
      "          32       0.00      0.00      0.00        85\n",
      "          33       0.00      0.00      0.00        69\n",
      "          34       0.00      0.00      0.00        46\n",
      "          35       0.00      0.00      0.00         9\n",
      "          36       0.27      0.07      0.11        43\n",
      "          37       0.00      0.00      0.00        75\n",
      "          38       0.00      0.00      0.00        14\n",
      "          39       0.00      0.00      0.00        78\n",
      "          40       0.00      0.00      0.00        54\n",
      "          41       0.04      0.09      0.06        77\n",
      "          42       0.00      0.00      0.00       162\n",
      "          43       0.10      0.02      0.03        56\n",
      "          44       0.00      0.00      0.00        12\n",
      "          45       0.00      0.00      0.00        26\n",
      "          46       0.08      0.16      0.10        38\n",
      "          47       1.00      0.02      0.04        92\n",
      "          48       0.07      0.01      0.01       159\n",
      "          49       0.00      0.00      0.00        51\n",
      "          50       0.00      0.00      0.00        99\n",
      "          51       0.00      0.00      0.00        78\n",
      "          52       0.00      0.00      0.00        24\n",
      "          53       0.00      0.00      0.00         4\n",
      "          54       0.77      0.47      0.59        51\n",
      "          55       0.04      0.06      0.05        66\n",
      "          56       0.18      0.42      0.25        60\n",
      "          57       0.00      0.00      0.00         7\n",
      "          58       0.10      0.06      0.07        35\n",
      "          59       0.00      0.00      0.00        92\n",
      "          60       0.00      0.00      0.00         7\n",
      "          61       0.00      0.00      0.00        28\n",
      "          62       0.16      0.15      0.15        47\n",
      "          63       0.23      0.32      0.27        25\n",
      "          64       0.13      0.57      0.21        61\n",
      "          65       0.17      0.86      0.29        29\n",
      "          66       0.40      0.12      0.18        17\n",
      "          67       0.00      0.00      0.00        29\n",
      "          68       0.14      0.12      0.13        66\n",
      "          69       0.00      0.00      0.00        30\n",
      "          70       0.03      0.02      0.02        66\n",
      "          71       0.18      0.21      0.20        19\n",
      "          72       0.40      0.02      0.04        95\n",
      "          73       0.00      0.00      0.00        28\n",
      "          74       0.80      0.57      0.67         7\n",
      "          75       0.00      0.00      0.00        18\n",
      "          76       0.00      0.00      0.00        29\n",
      "          77       0.00      0.00      0.00        80\n",
      "          78       0.09      0.14      0.11        21\n",
      "          79       0.00      0.00      0.00        34\n",
      "          80       0.19      0.19      0.19        16\n",
      "          81       0.12      0.06      0.08        32\n",
      "          82       0.13      0.39      0.20        57\n",
      "          83       0.00      0.00      0.00        62\n",
      "          84       0.00      0.00      0.00        23\n",
      "          85       0.00      0.00      0.00        22\n",
      "          86       0.50      0.07      0.12        14\n",
      "          87       0.25      0.14      0.18        14\n",
      "          88       0.00      0.00      0.00        12\n",
      "          89       0.00      0.00      0.00         3\n",
      "          90       0.00      0.00      0.00        45\n",
      "          91       0.09      0.85      0.16       266\n",
      "          92       0.00      0.00      0.00        10\n",
      "          93       0.00      0.00      0.00        15\n",
      "          94       0.00      0.00      0.00        73\n",
      "          95       0.12      0.18      0.14       100\n",
      "          96       0.00      0.00      0.00        33\n",
      "          97       0.12      0.11      0.11        47\n",
      "          98       0.22      0.06      0.10        97\n",
      "          99       0.33      0.05      0.09        57\n",
      "\n",
      "   micro avg       0.12      0.12      0.12      5172\n",
      "   macro avg       0.12      0.09      0.07      5172\n",
      "weighted avg       0.12      0.12      0.07      5172\n",
      "\n",
      "\n",
      "('MAPK5:', 0.19733178654292344)\n",
      "\n"
     ]
    },
    {
     "data": {
      "text/plain": [
       "0.19733178654292344"
      ]
     },
     "execution_count": 73,
     "metadata": {},
     "output_type": "execute_result"
    }
   ],
   "source": [
    "RF_Model(X_train, y_train, X_test, y_test)"
   ]
  },
  {
   "cell_type": "code",
   "execution_count": 78,
   "metadata": {},
   "outputs": [
    {
     "name": "stdout",
     "output_type": "stream",
     "text": [
      "Epoch 1/10\n",
      "125343/125343 [==============================] - 24s 190us/step - loss: 23048.4348 - acc: 0.0574\n",
      "Epoch 2/10\n",
      "125343/125343 [==============================] - 26s 207us/step - loss: 23048.3325 - acc: 0.0134\n",
      "Epoch 3/10\n",
      "125343/125343 [==============================] - 24s 191us/step - loss: 23048.3325 - acc: 0.0082\n",
      "Epoch 4/10\n",
      "125343/125343 [==============================] - 26s 206us/step - loss: 23048.3325 - acc: 0.0070\n",
      "Epoch 5/10\n",
      "125343/125343 [==============================] - 30s 237us/step - loss: 23048.3325 - acc: 0.0146\n",
      "Epoch 6/10\n",
      "125343/125343 [==============================] - 34s 270us/step - loss: 23048.3325 - acc: 0.0075\n",
      "Epoch 7/10\n",
      "125343/125343 [==============================] - 34s 272us/step - loss: 23048.3325 - acc: 0.0093\n",
      "Epoch 8/10\n",
      "125343/125343 [==============================] - 30s 243us/step - loss: 23048.3325 - acc: 0.0066\n",
      "Epoch 9/10\n",
      "125343/125343 [==============================] - 32s 256us/step - loss: 23048.3325 - acc: 0.0115\n",
      "Epoch 10/10\n",
      "125343/125343 [==============================] - 38s 306us/step - loss: 23048.3325 - acc: 0.0105\n",
      "5172/5172 [==============================] - 0s 48us/step\n",
      "('Test accuracy:', 0.0)\n",
      "('MAPK5:', 0.007856406290281)\n",
      "\n"
     ]
    },
    {
     "data": {
      "text/plain": [
       "0.007856406290281"
      ]
     },
     "execution_count": 78,
     "metadata": {},
     "output_type": "execute_result"
    }
   ],
   "source": [
    "ANN_Model(X_train, y_train, X_test, y_test, y_train, y_test)"
   ]
  },
  {
   "cell_type": "markdown",
   "metadata": {},
   "source": [
    "### Train with proper data preprocessing"
   ]
  },
  {
   "cell_type": "code",
   "execution_count": 81,
   "metadata": {},
   "outputs": [
    {
     "name": "stderr",
     "output_type": "stream",
     "text": [
      "/usr/local/lib/python2.7/dist-packages/ipykernel_launcher.py:4: DataConversionWarning: Data with input dtype int64, float64 were all converted to float64 by StandardScaler.\n",
      "  after removing the cwd from sys.path.\n"
     ]
    }
   ],
   "source": [
    "train, test, dest = read_data()\n",
    "convert_time(train)\n",
    "convert_time(test)\n",
    "\n",
    "dest = pca(dest)\n",
    "\n",
    "train = merge_dest(train)\n",
    "test = merge_dest(test)\n",
    "\n",
    "missing_data(train)\n",
    "missing_data(test)\n",
    "\n",
    "train = drop_user_id(train)\n",
    "test = drop_user_id(test)\n",
    "\n",
    "train = combine_distance(train)\n",
    "test = combine_distance(test)\n",
    "\n",
    "y_train = train.loc[:, \"hotel_cluster\"].values\n",
    "X_train = train.drop(\"hotel_cluster\", axis=1)\n",
    "y_test = test.loc[:, \"hotel_cluster\"].values\n",
    "X_test = test.drop(\"hotel_cluster\", axis=1)\n",
    "\n",
    "X_train, X_test = standard_scale(X_train, X_test)\n",
    "\n",
    "y_train_encode = one_hot_encode(y_train)\n",
    "y_test_encode = one_hot_encode(y_test)"
   ]
  },
  {
   "cell_type": "code",
   "execution_count": 82,
   "metadata": {},
   "outputs": [
    {
     "name": "stdout",
     "output_type": "stream",
     "text": [
      "# Tuning hyper-parameters for accuracy\n",
      "\n",
      "Best parameters set found on development set:\n",
      "\n",
      "{'priors': None}\n",
      "\n",
      "Grid scores on development set:\n",
      "\n",
      "0.118 (+/-0.011) for {'priors': None}\n",
      "\n",
      "Detailed classification report:\n",
      "\n",
      "The model is trained on the full development set.\n",
      "The scores are computed on the full evaluation set.\n",
      "\n",
      "              precision    recall  f1-score   support\n",
      "\n",
      "           0       0.38      0.32      0.35        44\n",
      "           1       1.00      0.03      0.05        79\n",
      "           2       0.75      0.23      0.35        65\n",
      "           3       0.00      0.00      0.00        11\n",
      "           4       0.12      0.57      0.20        83\n",
      "           5       1.00      0.33      0.50        54\n",
      "           6       0.84      0.28      0.42        74\n",
      "           7       0.88      0.56      0.69        62\n",
      "           8       1.00      0.50      0.67        20\n",
      "           9       0.71      0.14      0.24        70\n",
      "          10       1.00      0.19      0.32        47\n",
      "          11       0.19      0.38      0.25        37\n",
      "          12       0.55      0.33      0.41        18\n",
      "          13       0.26      0.50      0.34        96\n",
      "          14       0.79      0.73      0.76        26\n",
      "          15       0.96      0.36      0.52        61\n",
      "          16       0.98      0.31      0.47       129\n",
      "          17       0.33      0.37      0.35        35\n",
      "          18       0.74      0.23      0.35       126\n",
      "          19       0.08      0.18      0.11        84\n",
      "          20       1.00      0.57      0.73        14\n",
      "          21       0.72      0.12      0.21       104\n",
      "          22       0.22      0.06      0.09        34\n",
      "          23       0.63      0.46      0.54        41\n",
      "          24       0.00      0.00      0.00        20\n",
      "          25       0.55      0.38      0.45        63\n",
      "          26       0.88      0.27      0.41        26\n",
      "          27       0.07      0.25      0.11         8\n",
      "          28       0.39      0.45      0.42       141\n",
      "          29       0.41      0.37      0.39        35\n",
      "          30       0.50      0.03      0.06        30\n",
      "          31       0.28      0.38      0.32        29\n",
      "          32       0.22      0.74      0.34        85\n",
      "          33       0.36      0.39      0.38        69\n",
      "          34       0.80      0.17      0.29        46\n",
      "          35       1.00      0.56      0.71         9\n",
      "          36       0.83      0.44      0.58        43\n",
      "          37       0.94      0.21      0.34        73\n",
      "          38       0.00      0.00      0.00        14\n",
      "          39       0.44      0.45      0.44        76\n",
      "          40       0.83      0.37      0.51        52\n",
      "          41       0.00      0.00      0.00        77\n",
      "          42       0.85      0.44      0.58       159\n",
      "          43       0.26      0.80      0.39        56\n",
      "          44       0.00      0.00      0.00        12\n",
      "          45       0.00      0.00      0.00        24\n",
      "          46       0.18      0.79      0.29        38\n",
      "          47       1.00      0.36      0.53        92\n",
      "          48       1.00      0.36      0.53       158\n",
      "          49       0.29      0.12      0.17        51\n",
      "          50       1.00      0.31      0.48        99\n",
      "          51       0.90      0.24      0.38        78\n",
      "          52       0.30      0.25      0.27        24\n",
      "          53       1.00      0.50      0.67         4\n",
      "          54       0.50      0.02      0.04        51\n",
      "          55       0.69      0.17      0.27        66\n",
      "          56       0.16      0.75      0.26        59\n",
      "          57       0.33      0.71      0.45         7\n",
      "          58       0.59      0.49      0.53        35\n",
      "          59       0.23      0.25      0.24        91\n",
      "          60       1.00      0.43      0.60         7\n",
      "          61       1.00      0.46      0.63        28\n",
      "          62       0.52      0.36      0.43        47\n",
      "          63       0.67      0.56      0.61        25\n",
      "          64       0.69      0.19      0.29        59\n",
      "          65       0.00      0.00      0.00        29\n",
      "          66       0.23      0.65      0.34        17\n",
      "          67       0.10      0.90      0.18        29\n",
      "          68       1.00      0.12      0.22        66\n",
      "          69       0.29      0.07      0.11        30\n",
      "          70       0.05      0.32      0.09        66\n",
      "          71       0.11      0.67      0.19        18\n",
      "          72       0.67      0.28      0.39        94\n",
      "          73       0.53      0.32      0.40        28\n",
      "          74       0.54      1.00      0.70         7\n",
      "          75       0.69      0.50      0.58        18\n",
      "          76       1.00      0.48      0.65        29\n",
      "          77       0.87      0.33      0.47        80\n",
      "          78       0.00      0.00      0.00        20\n",
      "          79       0.14      0.38      0.21        34\n",
      "          80       0.00      0.00      0.00        16\n",
      "          81       0.90      0.59      0.72        32\n",
      "          82       0.42      0.57      0.48        56\n",
      "          83       1.00      0.21      0.35        62\n",
      "          84       0.50      0.26      0.34        23\n",
      "          85       0.78      0.64      0.70        22\n",
      "          86       0.78      0.50      0.61        14\n",
      "          87       0.14      0.08      0.10        13\n",
      "          88       0.06      1.00      0.11        11\n",
      "          89       1.00      1.00      1.00         3\n",
      "          90       0.00      0.00      0.00        44\n",
      "          91       0.97      0.36      0.53       263\n",
      "          92       1.00      0.10      0.18        10\n",
      "          93       1.00      0.53      0.70        15\n",
      "          94       0.67      0.47      0.55        73\n",
      "          95       0.14      0.40      0.20        99\n",
      "          96       1.00      0.12      0.22        32\n",
      "          97       0.38      0.11      0.17        47\n",
      "          98       0.44      0.04      0.08        96\n",
      "          99       1.00      0.25      0.39        57\n",
      "\n",
      "   micro avg       0.33      0.33      0.33      5133\n",
      "   macro avg       0.55      0.35      0.35      5133\n",
      "weighted avg       0.61      0.33      0.36      5133\n",
      "\n",
      "\n",
      "('MAPK5:', 0.4108026495226963)\n",
      "\n"
     ]
    },
    {
     "data": {
      "text/plain": [
       "0.4108026495226963"
      ]
     },
     "execution_count": 82,
     "metadata": {},
     "output_type": "execute_result"
    }
   ],
   "source": [
    "NB_Model(X_train, y_train, X_test, y_test)"
   ]
  },
  {
   "cell_type": "code",
   "execution_count": 83,
   "metadata": {},
   "outputs": [
    {
     "name": "stdout",
     "output_type": "stream",
     "text": [
      "# Tuning hyper-parameters for accuracy\n",
      "()\n",
      "Best parameters set found on development set:\n",
      "\n",
      "{'decision_function_shape': 'ovo'}\n",
      "\n",
      "Grid scores on development set:\n",
      "\n",
      "0.224 (+/-0.012) for {'decision_function_shape': 'ovo'}\n",
      "()\n",
      "Detailed classification report:\n",
      "\n",
      "The model is trained on the full development set.\n",
      "The scores are computed on the full evaluation set.\n",
      "\n",
      "              precision    recall  f1-score   support\n",
      "\n",
      "           0       0.42      0.57      0.49        44\n",
      "           1       0.32      0.99      0.48        79\n",
      "           2       0.47      0.48      0.47        65\n",
      "           3       1.00      0.18      0.31        11\n",
      "           4       0.46      0.52      0.49        83\n",
      "           5       0.48      0.52      0.50        54\n",
      "           6       0.58      0.47      0.52        74\n",
      "           7       0.74      0.69      0.72        62\n",
      "           8       0.57      0.65      0.60        20\n",
      "           9       0.28      0.50      0.36        70\n",
      "          10       0.36      0.51      0.42        47\n",
      "          11       0.44      0.49      0.46        37\n",
      "          12       0.37      0.56      0.44        18\n",
      "          13       0.60      0.43      0.50        96\n",
      "          14       0.63      0.85      0.72        26\n",
      "          15       0.60      0.61      0.60        61\n",
      "          16       0.70      0.46      0.55       129\n",
      "          17       0.53      0.54      0.54        35\n",
      "          18       0.42      0.42      0.42       126\n",
      "          19       0.20      0.37      0.26        84\n",
      "          20       0.73      0.57      0.64        14\n",
      "          21       0.38      0.30      0.34       104\n",
      "          22       0.33      0.50      0.40        34\n",
      "          23       0.41      0.63      0.50        41\n",
      "          24       0.00      0.00      0.00        20\n",
      "          25       0.46      0.54      0.50        63\n",
      "          26       0.75      0.35      0.47        26\n",
      "          27       1.00      1.00      1.00         8\n",
      "          28       0.55      0.48      0.52       141\n",
      "          29       0.64      0.51      0.57        35\n",
      "          30       0.94      0.53      0.68        30\n",
      "          31       0.44      0.41      0.43        29\n",
      "          32       0.75      0.62      0.68        85\n",
      "          33       0.55      0.49      0.52        69\n",
      "          34       0.31      0.43      0.36        46\n",
      "          35       0.70      0.78      0.74         9\n",
      "          36       0.66      0.77      0.71        43\n",
      "          37       0.51      0.32      0.39        73\n",
      "          38       0.67      0.57      0.62        14\n",
      "          39       0.59      0.54      0.57        76\n",
      "          40       0.71      0.48      0.57        52\n",
      "          41       0.44      0.19      0.27        77\n",
      "          42       0.77      0.59      0.67       159\n",
      "          43       0.80      0.84      0.82        56\n",
      "          44       0.77      0.83      0.80        12\n",
      "          45       0.00      0.00      0.00        24\n",
      "          46       0.60      0.63      0.62        38\n",
      "          47       0.81      0.47      0.59        92\n",
      "          48       0.69      0.50      0.58       158\n",
      "          49       0.26      0.33      0.29        51\n",
      "          50       0.70      0.48      0.57        99\n",
      "          51       0.59      0.50      0.54        78\n",
      "          52       0.57      0.33      0.42        24\n",
      "          53       0.60      0.75      0.67         4\n",
      "          54       0.78      0.55      0.64        51\n",
      "          55       0.64      0.21      0.32        66\n",
      "          56       0.23      0.71      0.35        59\n",
      "          57       0.71      0.71      0.71         7\n",
      "          58       0.70      0.54      0.61        35\n",
      "          59       0.41      0.37      0.39        91\n",
      "          60       0.75      0.86      0.80         7\n",
      "          61       0.67      0.79      0.72        28\n",
      "          62       0.81      0.64      0.71        47\n",
      "          63       1.00      0.52      0.68        25\n",
      "          64       0.37      0.44      0.40        59\n",
      "          65       0.30      0.66      0.41        29\n",
      "          66       0.25      0.12      0.16        17\n",
      "          67       0.80      0.69      0.74        29\n",
      "          68       0.35      0.30      0.33        66\n",
      "          69       0.40      0.13      0.20        30\n",
      "          70       0.19      0.18      0.18        66\n",
      "          71       0.29      0.56      0.38        18\n",
      "          72       0.45      0.37      0.41        94\n",
      "          73       0.67      0.43      0.52        28\n",
      "          74       1.00      1.00      1.00         7\n",
      "          75       0.62      0.56      0.59        18\n",
      "          76       0.63      0.83      0.72        29\n",
      "          77       0.57      0.55      0.56        80\n",
      "          78       0.82      0.70      0.76        20\n",
      "          79       0.40      0.18      0.24        34\n",
      "          80       0.88      0.88      0.88        16\n",
      "          81       0.88      0.69      0.77        32\n",
      "          82       0.81      0.70      0.75        56\n",
      "          83       0.57      0.37      0.45        62\n",
      "          84       0.36      0.43      0.39        23\n",
      "          85       0.70      0.86      0.78        22\n",
      "          86       0.59      0.71      0.65        14\n",
      "          87       0.33      0.15      0.21        13\n",
      "          88       0.00      0.00      0.00        11\n",
      "          89       1.00      1.00      1.00         3\n",
      "          90       0.58      0.59      0.58        44\n",
      "          91       0.63      0.53      0.57       263\n",
      "          92       0.30      0.30      0.30        10\n",
      "          93       0.61      0.73      0.67        15\n",
      "          94       0.58      0.53      0.56        73\n",
      "          95       0.30      0.39      0.34        99\n",
      "          96       0.31      0.34      0.32        32\n",
      "          97       0.24      0.23      0.24        47\n",
      "          98       0.18      0.34      0.24        96\n",
      "          99       0.56      0.60      0.58        57\n",
      "\n",
      "   micro avg       0.49      0.49      0.49      5133\n",
      "   macro avg       0.55      0.52      0.52      5133\n",
      "weighted avg       0.54      0.49      0.50      5133\n",
      "\n",
      "\n",
      "('MAPK5:', 0.6182479381778038)\n",
      "\n"
     ]
    },
    {
     "data": {
      "text/plain": [
       "0.6182479381778038"
      ]
     },
     "execution_count": 83,
     "metadata": {},
     "output_type": "execute_result"
    }
   ],
   "source": [
    "SVM_Model(X_train, y_train, X_test, y_test)"
   ]
  },
  {
   "cell_type": "code",
   "execution_count": 69,
   "metadata": {},
   "outputs": [
    {
     "name": "stdout",
     "output_type": "stream",
     "text": [
      "# Tuning hyper-parameters for accuracy\n",
      "\n",
      "Best parameters set found on development set:\n",
      "\n",
      "{'n_estimators': 100, 'max_depth': 10}\n",
      "\n",
      "Grid scores on development set:\n",
      "\n",
      "0.185 (+/-0.003) for {'n_estimators': 100, 'max_depth': 10}\n",
      "\n",
      "Detailed classification report:\n",
      "\n",
      "The model is trained on the full development set.\n",
      "The scores are computed on the full evaluation set.\n",
      "\n",
      "              precision    recall  f1-score   support\n",
      "\n",
      "           0       0.35      0.55      0.43        44\n",
      "           1       0.32      0.97      0.48        79\n",
      "           2       0.62      0.08      0.14        65\n",
      "           3       1.00      0.18      0.31        11\n",
      "           4       0.06      0.01      0.02        83\n",
      "           5       0.16      0.22      0.19        54\n",
      "           6       1.00      0.03      0.05        74\n",
      "           7       0.85      0.63      0.72        62\n",
      "           8       0.39      0.55      0.46        20\n",
      "           9       0.00      0.00      0.00        70\n",
      "          10       0.00      0.00      0.00        47\n",
      "          11       0.50      0.03      0.05        37\n",
      "          12       0.00      0.00      0.00        18\n",
      "          13       0.89      0.33      0.48        96\n",
      "          14       0.00      0.00      0.00        26\n",
      "          15       0.00      0.00      0.00        61\n",
      "          16       0.90      0.28      0.43       129\n",
      "          17       0.00      0.00      0.00        35\n",
      "          18       0.67      0.05      0.09       126\n",
      "          19       0.00      0.00      0.00        84\n",
      "          20       1.00      0.57      0.73        14\n",
      "          21       0.20      0.05      0.08       104\n",
      "          22       0.25      0.50      0.34        34\n",
      "          23       0.00      0.00      0.00        41\n",
      "          24       0.00      0.00      0.00        20\n",
      "          25       0.43      0.19      0.26        63\n",
      "          26       0.24      0.62      0.35        26\n",
      "          27       1.00      1.00      1.00         8\n",
      "          28       0.51      0.55      0.53       141\n",
      "          29       0.71      0.34      0.46        35\n",
      "          30       0.56      0.63      0.59        30\n",
      "          31       0.54      0.24      0.33        29\n",
      "          32       0.75      0.49      0.60        85\n",
      "          33       0.00      0.00      0.00        69\n",
      "          34       0.11      0.11      0.11        46\n",
      "          35       0.00      0.00      0.00         9\n",
      "          36       0.71      0.51      0.59        43\n",
      "          37       0.00      0.00      0.00        73\n",
      "          38       0.83      0.36      0.50        14\n",
      "          39       0.75      0.47      0.58        76\n",
      "          40       0.00      0.00      0.00        52\n",
      "          41       0.13      0.47      0.21        77\n",
      "          42       0.68      0.68      0.68       159\n",
      "          43       0.86      0.79      0.82        56\n",
      "          44       1.00      0.42      0.59        12\n",
      "          45       0.00      0.00      0.00        24\n",
      "          46       0.32      0.76      0.45        38\n",
      "          47       0.71      0.49      0.58        92\n",
      "          48       0.60      0.68      0.64       158\n",
      "          49       0.00      0.00      0.00        51\n",
      "          50       0.73      0.46      0.57        99\n",
      "          51       0.00      0.00      0.00        78\n",
      "          52       0.50      0.21      0.29        24\n",
      "          53       1.00      0.50      0.67         4\n",
      "          54       0.82      0.55      0.66        51\n",
      "          55       0.30      0.05      0.08        66\n",
      "          56       0.22      0.08      0.12        59\n",
      "          57       0.83      0.71      0.77         7\n",
      "          58       0.87      0.37      0.52        35\n",
      "          59       0.33      0.14      0.20        91\n",
      "          60       0.00      0.00      0.00         7\n",
      "          61       0.92      0.43      0.59        28\n",
      "          62       0.61      0.81      0.70        47\n",
      "          63       0.46      0.68      0.55        25\n",
      "          64       0.22      0.58      0.32        59\n",
      "          65       0.27      0.97      0.42        29\n",
      "          66       0.00      0.00      0.00        17\n",
      "          67       0.71      0.83      0.76        29\n",
      "          68       0.17      0.08      0.11        66\n",
      "          69       0.00      0.00      0.00        30\n",
      "          70       0.13      0.20      0.15        66\n",
      "          71       0.19      0.17      0.18        18\n",
      "          72       0.33      0.02      0.04        94\n",
      "          73       0.69      0.39      0.50        28\n",
      "          74       1.00      1.00      1.00         7\n",
      "          75       0.00      0.00      0.00        18\n",
      "          76       0.00      0.00      0.00        29\n",
      "          77       0.00      0.00      0.00        80\n",
      "          78       0.50      0.70      0.58        20\n",
      "          79       0.36      0.15      0.21        34\n",
      "          80       0.88      0.88      0.88        16\n",
      "          81       0.90      0.59      0.72        32\n",
      "          82       0.45      0.95      0.61        56\n",
      "          83       0.00      0.00      0.00        62\n",
      "          84       0.00      0.00      0.00        23\n",
      "          85       0.83      0.45      0.59        22\n",
      "          86       0.00      0.00      0.00        14\n",
      "          87       0.67      0.15      0.25        13\n",
      "          88       0.00      0.00      0.00        11\n",
      "          89       1.00      1.00      1.00         3\n",
      "          90       0.77      0.39      0.52        44\n",
      "          91       0.13      0.94      0.24       263\n",
      "          92       0.00      0.00      0.00        10\n",
      "          93       0.00      0.00      0.00        15\n",
      "          94       0.91      0.29      0.44        73\n",
      "          95       0.18      0.24      0.21        99\n",
      "          96       0.25      0.03      0.06        32\n",
      "          97       0.20      0.02      0.04        47\n",
      "          98       0.17      0.20      0.19        96\n",
      "          99       0.67      0.04      0.07        57\n",
      "\n",
      "   micro avg       0.33      0.33      0.33      5133\n",
      "   macro avg       0.41      0.31      0.31      5133\n",
      "weighted avg       0.40      0.33      0.29      5133\n",
      "\n",
      "\n",
      "('MAPK5:', 0.43677186830313663)\n",
      "\n"
     ]
    },
    {
     "data": {
      "text/plain": [
       "0.43677186830313663"
      ]
     },
     "execution_count": 69,
     "metadata": {},
     "output_type": "execute_result"
    }
   ],
   "source": [
    "RF_Model(X_train, y_train, X_test, y_test)"
   ]
  },
  {
   "cell_type": "code",
   "execution_count": 67,
   "metadata": {},
   "outputs": [
    {
     "name": "stdout",
     "output_type": "stream",
     "text": [
      "Epoch 1/10\n",
      "124970/124970 [==============================] - 24s 189us/step - loss: 3.0983 - acc: 0.2244\n",
      "Epoch 2/10\n",
      "124970/124970 [==============================] - 23s 186us/step - loss: 2.9329 - acc: 0.2367\n",
      "Epoch 3/10\n",
      "124970/124970 [==============================] - 23s 188us/step - loss: 2.8904 - acc: 0.2390\n",
      "Epoch 4/10\n",
      "124970/124970 [==============================] - 23s 187us/step - loss: 2.8655 - acc: 0.2404\n",
      "Epoch 5/10\n",
      "124970/124970 [==============================] - 25s 200us/step - loss: 2.8468 - acc: 0.2411\n",
      "Epoch 6/10\n",
      "124970/124970 [==============================] - 26s 205us/step - loss: 2.8358 - acc: 0.2439\n",
      "Epoch 7/10\n",
      "124970/124970 [==============================] - 26s 207us/step - loss: 2.8246 - acc: 0.2431\n",
      "Epoch 8/10\n",
      "124970/124970 [==============================] - 28s 225us/step - loss: 2.8169 - acc: 0.2440\n",
      "Epoch 9/10\n",
      "124970/124970 [==============================] - 24s 194us/step - loss: 2.8108 - acc: 0.2455\n",
      "Epoch 10/10\n",
      "124970/124970 [==============================] - 24s 192us/step - loss: 2.8057 - acc: 0.2452\n",
      "5133/5133 [==============================] - 0s 46us/step\n",
      "('Test accuracy:', 0.4619131112584077)\n",
      "('MAPK5:', 0.5701766348464186)\n",
      "\n"
     ]
    },
    {
     "data": {
      "text/plain": [
       "0.5701766348464186"
      ]
     },
     "execution_count": 67,
     "metadata": {},
     "output_type": "execute_result"
    }
   ],
   "source": [
    "ANN_Model(X_train, y_train, X_test, y_test, y_train_encode, y_test_encode)"
   ]
  }
 ],
 "metadata": {
  "kernelspec": {
   "display_name": "Python 3",
   "language": "python",
   "name": "python3"
  },
  "language_info": {
   "codemirror_mode": {
    "name": "ipython",
    "version": 3
   },
   "file_extension": ".py",
   "mimetype": "text/x-python",
   "name": "python",
   "nbconvert_exporter": "python",
   "pygments_lexer": "ipython3",
   "version": "3.7.0"
  }
 },
 "nbformat": 4,
 "nbformat_minor": 2
}
