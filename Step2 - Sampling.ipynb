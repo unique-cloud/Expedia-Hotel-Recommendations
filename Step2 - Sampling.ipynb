{
 "cells": [
  {
   "cell_type": "code",
   "execution_count": 0,
   "metadata": {
    "colab": {},
    "colab_type": "code",
    "id": "QdRCaz3zM22a"
   },
   "outputs": [],
   "source": [
    "import pandas as pd"
   ]
  },
  {
   "cell_type": "code",
   "execution_count": 0,
   "metadata": {
    "colab": {},
    "colab_type": "code",
    "id": "x4AQ_5KhOFE9"
   },
   "outputs": [],
   "source": [
    "# Load orginal train dataset\n",
    "train = pd.read_csv('train.csv')\n",
    "print(train.shape)"
   ]
  },
  {
   "cell_type": "markdown",
   "metadata": {
    "colab_type": "text",
    "id": "5QlYJlY3OjHm"
   },
   "source": [
    "**Convert time to numeric：**\n",
    "\n",
    "The first step is to add month and year to the train, because the distinction between train and test data is the date, we need to add a date field so that we can use a similar distinction to split our data into two data sets. If we add the year and month fields, we can split our data into train dataset and test dataset to use them."
   ]
  },
  {
   "cell_type": "code",
   "execution_count": 0,
   "metadata": {
    "colab": {},
    "colab_type": "code",
    "id": "Jo-J--UxOV-I"
   },
   "outputs": [],
   "source": [
    "train[\"date_time\"] = pd.to_datetime(train[\"date_time\"])"
   ]
  },
  {
   "cell_type": "code",
   "execution_count": 0,
   "metadata": {
    "colab": {},
    "colab_type": "code",
    "id": "HKnkLZg9Oa8q"
   },
   "outputs": [],
   "source": [
    "train[\"year\"] = train[\"date_time\"].dt.year\n",
    "train[\"month\"] = train[\"date_time\"].dt.month"
   ]
  },
  {
   "cell_type": "markdown",
   "metadata": {
    "colab_type": "text",
    "id": "LkybOGQdPUqe"
   },
   "source": [
    "**Choose 10,000 users：**\n",
    "\n",
    "Because the user id of the test dataset is a subset of the user id of the train dataset, we need to save all the data for each user in a way that is random sampling. We can do this by randomly selecting 10000 user_ids and then selecting all the data rows of these user_ids from the train dataset."
   ]
  },
  {
   "cell_type": "code",
   "execution_count": 0,
   "metadata": {
    "colab": {},
    "colab_type": "code",
    "id": "rma4PlL1PU8z"
   },
   "outputs": [],
   "source": [
    "import random\n",
    "\n",
    "unique_users = train.user_id.unique()\n",
    "sel_user_ids = [unique_users[i] for i in sorted(random.sample(range(len(unique_users)), 10000)) ]\n",
    "sel_train = train[train.user_id.isin(sel_user_ids)]"
   ]
  },
  {
   "cell_type": "markdown",
   "metadata": {
    "colab_type": "text",
    "id": "3mwhq5F7Q3s8"
   },
   "source": [
    "**Select new training and test datasets：**\n",
    "\n",
    "We now need to pick the new train and test dataset from sel_train, which we will name t1 and t2."
   ]
  },
  {
   "cell_type": "code",
   "execution_count": 0,
   "metadata": {
    "colab": {},
    "colab_type": "code",
    "id": "jaJPtBDeQ-6p"
   },
   "outputs": [],
   "source": [
    "t1 = sel_train[((sel_train.year == 2013) | ((sel_train.year == 2014) & (sel_train.month < 8)))]\n",
    "t2 = sel_train[((sel_train.year == 2014) & (sel_train.month >= 8))]"
   ]
  },
  {
   "cell_type": "markdown",
   "metadata": {
    "colab_type": "text",
    "id": "la50vgWWRIgk"
   },
   "source": [
    "The original test data box contains data from 2015, and the train contains data from 2013 to 2014, so we will distribute the data in the new data set after July 2014 to t2, and the previous data will be assigned to t1. This allows us to obtain similar characteristics to the original test training data set with smaller training and test data sets."
   ]
  },
  {
   "cell_type": "markdown",
   "metadata": {
    "colab_type": "text",
    "id": "QpNqBaKdbwE3"
   },
   "source": [
    "**remove non-booking events：**\n",
    "\n",
    "If the value of is_booking is 0, it means a click, and a value of 1 indicates a reservation. The original test dataset contains only scheduled events, so we also need to simplify t2 to include only reservations."
   ]
  },
  {
   "cell_type": "code",
   "execution_count": 0,
   "metadata": {
    "colab": {},
    "colab_type": "code",
    "id": "9VA5cl7HbPw9"
   },
   "outputs": [],
   "source": [
    "t2 = t2[t2.is_booking == True]"
   ]
  },
  {
   "cell_type": "code",
   "execution_count": 0,
   "metadata": {
    "colab": {},
    "colab_type": "code",
    "id": "nEOw8b1ccT5J"
   },
   "outputs": [],
   "source": [
    "t1.to_csv(\"train_slim.csv\", index=False)\n",
    "t2.to_csv(\"test_slim.csv\", index=False)"
   ]
  }
 ],
 "metadata": {
  "colab": {
   "collapsed_sections": [],
   "name": "Sampling.ipynb",
   "provenance": [],
   "version": "0.3.2"
  },
  "kernelspec": {
   "display_name": "Python 3",
   "language": "python",
   "name": "python3"
  },
  "language_info": {
   "codemirror_mode": {
    "name": "ipython",
    "version": 3
   },
   "file_extension": ".py",
   "mimetype": "text/x-python",
   "name": "python",
   "nbconvert_exporter": "python",
   "pygments_lexer": "ipython3",
   "version": "3.7.0"
  }
 },
 "nbformat": 4,
 "nbformat_minor": 1
}
