{
 "cells": [
  {
   "cell_type": "markdown",
   "metadata": {
    "colab_type": "text",
    "id": "der3PM9wRysm"
   },
   "source": [
    "Kaggle link: https://www.kaggle.com/c/expedia-hotel-recommendations\n",
    "\n",
    "---"
   ]
  },
  {
   "cell_type": "markdown",
   "metadata": {
    "colab_type": "text",
    "id": "LCoDBU_ERkDw"
   },
   "source": [
    "**Raw datasets analysis：**"
   ]
  },
  {
   "cell_type": "markdown",
   "metadata": {
    "colab_type": "text",
    "id": "ZHss4eiqR-tf"
   },
   "source": [
    "The first step is to look at the feature description of the dataset. We can see that the dataset records the search information of some Expedia users. There are three files in the dataset atmosphere, test.csv, train.csv and destination.csv. Test.csv/train.csv contains aggregated information about which hotels the customer searched and ultimately booked. Destinations.csv includes information about regional users searching for hotels"
   ]
  },
  {
   "cell_type": "markdown",
   "metadata": {
    "colab_type": "text",
    "id": "wlOQcW4CZHa9"
   },
   "source": [
    "Data Field\n",
    "\n",
    "train/test.csv\n",
    "\n",
    "|Column name|\tDescription\t|Data type\n",
    "|--------------------------------------------------------------|\n",
    "|date_time\t|Timestamp\t|string\n",
    "|site_name\t|ID of the Expedia point of sale (i.e. Expedia.com, Expedia.co.uk, Expedia.co.jp, ...)\t|int\n",
    "|posa_continent\t|ID of continent associated with site_name\t\t|int\n",
    "|user_location_country\t|The ID of the country the customer is located\t|int\n",
    "|user_location_region\t|The ID of the region the customer is located\t|int\n",
    "|user_location_city\t|The ID of the city the customer is located|\tint\n",
    "|orig_destination_distance\t|Physical distance between a hotel and a customer at the time of search. A null means the distance could not be calculated\t|double\n",
    "|user_id\t|ID of user|\tint\n",
    "|is_mobile\t|1 when a user connected from a mobile device, 0 otherwise|\ttinyint\n",
    "|is_package\t|1 if the click/booking was generated as a part of a package (i.e. combined with a flight), 0 otherwise\t|int\n",
    "|channel\t|ID of a marketing channel\t|int\n",
    "|srch_ci\t|Checkin date\t|string\n",
    "|srch_co\t|Checkout date\t|string\n",
    "|srch_adults_cnt\t|The number of adults specified in the hotel room|\tint\n",
    "|srch_children_cnt\t|The number of (extra occupancy) children specified in the hotel room\t|int\n",
    "|srch_rm_cnt\t|The number of hotel rooms specified in the search|\tint\n",
    "|srch_destination_id\t|ID of the destination where the hotel search was performed\t|int\n",
    "|srch_destination_type_id\t|Type of destination\t|int\n",
    "|hotel_continent\t|Hotel continent\t|int\n",
    "|hotel_country\t|Hotel country\t|int\n",
    "|hotel_market\t|Hotel market\t|int\n",
    "|is_booking\t|1 if a booking, 0 if a click\t|tinyint\n",
    "|cnt\t|Numer of similar events in the context of the same user session\t|bigint\n",
    "|hotel_cluster\t|ID of a hotel cluster\t|int\n",
    "\n",
    "---\n",
    "destinations.csv\n",
    "\n",
    "|Column name\t|Description\t|Data type\n",
    "|----------------------------------------------------------|\n",
    "|srch_destination_id\t|ID of the destination where the hotel search was performed\t|int\n",
    "|d1-d149\t|latent description of search regions\t|double\n"
   ]
  },
  {
   "cell_type": "markdown",
   "metadata": {
    "colab_type": "text",
    "id": "3aI-zPVcRrLE"
   },
   "source": [
    "Because the competition use the real data that the user generated at Expedia, we can take some time to learn about the Expedia website. Experiencing the booking process can help us better understand Expedia data in the context of data description.\n",
    "\n",
    "|Website Info|Dataset Column|\n",
    "|-|\n",
    "|Going To|srch_destination_type_id, hotel_continent, hotel_country, hotel_market\n",
    "|Check-in|srch_ci\n",
    "|Check-out|srch_co\n",
    "|Guests|srch_adults_cnt, srch_children_cnt, srch_rm_cnt\n",
    "|Add a Flight|is_package\n",
    "|Website name，Expedia.com or else |site_name\n",
    "|User's location, device, session on Expedia website (Website records users' sessions)|user_location_country, user_location_region, user_location_city, is_mobile,channel, is_booking, cnt\n",
    "||"
   ]
  },
  {
   "cell_type": "markdown",
   "metadata": {
    "colab_type": "text",
    "id": "HzalvnbaRrNq"
   },
   "source": [
    "**Data files：**\n",
    "\n",
    "|File|Size|Num of entries|Num of Columns\n",
    "|-|\n",
    "|train.csv|3.79GB|37670293|24\n",
    "|test.csv|263MB|2528243|23\n",
    "|destinations.csv|131MB|62106|150"
   ]
  },
  {
   "cell_type": "code",
   "execution_count": 1,
   "metadata": {
    "colab": {},
    "colab_type": "code",
    "id": "mD89GA8xFXat"
   },
   "outputs": [],
   "source": [
    "import pandas as pd"
   ]
  },
  {
   "cell_type": "code",
   "execution_count": 2,
   "metadata": {
    "colab": {},
    "colab_type": "code",
    "id": "wR32sK3oNAVk"
   },
   "outputs": [
    {
     "name": "stdout",
     "output_type": "stream",
     "text": [
      "             date_time  site_name  posa_continent  user_location_country  \\\n",
      "0  2014-08-11 07:46:59          2               3                     66   \n",
      "1  2014-08-11 08:22:12          2               3                     66   \n",
      "2  2014-08-11 08:24:33          2               3                     66   \n",
      "3  2014-08-09 18:05:16          2               3                     66   \n",
      "4  2014-08-09 18:08:18          2               3                     66   \n",
      "\n",
      "   user_location_region  user_location_city  orig_destination_distance  \\\n",
      "0                   348               48862                  2234.2641   \n",
      "1                   348               48862                  2234.2641   \n",
      "2                   348               48862                  2234.2641   \n",
      "3                   442               35390                   913.1932   \n",
      "4                   442               35390                   913.6259   \n",
      "\n",
      "   user_id  is_mobile  is_package      ...        srch_children_cnt  \\\n",
      "0       12          0           1      ...                        0   \n",
      "1       12          0           1      ...                        0   \n",
      "2       12          0           0      ...                        0   \n",
      "3       93          0           0      ...                        0   \n",
      "4       93          0           0      ...                        0   \n",
      "\n",
      "  srch_rm_cnt srch_destination_id  srch_destination_type_id  is_booking  cnt  \\\n",
      "0           1                8250                         1           0    3   \n",
      "1           1                8250                         1           1    1   \n",
      "2           1                8250                         1           0    1   \n",
      "3           1               14984                         1           0    1   \n",
      "4           1               14984                         1           0    1   \n",
      "\n",
      "   hotel_continent  hotel_country  hotel_market  hotel_cluster  \n",
      "0                2             50           628              1  \n",
      "1                2             50           628              1  \n",
      "2                2             50           628              1  \n",
      "3                2             50          1457             80  \n",
      "4                2             50          1457             21  \n",
      "\n",
      "[5 rows x 24 columns]\n",
      "(37670293, 24)\n",
      "<class 'pandas.core.frame.DataFrame'>\n",
      "RangeIndex: 37670293 entries, 0 to 37670292\n",
      "Data columns (total 24 columns):\n",
      "date_time                    object\n",
      "site_name                    int64\n",
      "posa_continent               int64\n",
      "user_location_country        int64\n",
      "user_location_region         int64\n",
      "user_location_city           int64\n",
      "orig_destination_distance    float64\n",
      "user_id                      int64\n",
      "is_mobile                    int64\n",
      "is_package                   int64\n",
      "channel                      int64\n",
      "srch_ci                      object\n",
      "srch_co                      object\n",
      "srch_adults_cnt              int64\n",
      "srch_children_cnt            int64\n",
      "srch_rm_cnt                  int64\n",
      "srch_destination_id          int64\n",
      "srch_destination_type_id     int64\n",
      "is_booking                   int64\n",
      "cnt                          int64\n",
      "hotel_continent              int64\n",
      "hotel_country                int64\n",
      "hotel_market                 int64\n",
      "hotel_cluster                int64\n",
      "dtypes: float64(1), int64(20), object(3)\n",
      "memory usage: 6.7+ GB\n",
      "None\n"
     ]
    }
   ],
   "source": [
    "# Load the train dataset\n",
    "df_train = pd.read_csv(\"train.csv\")\n",
    "print(df_train.head())\n",
    "print(df_train.shape)\n",
    "print(df_train.info())"
   ]
  },
  {
   "cell_type": "markdown",
   "metadata": {
    "colab_type": "text",
    "id": "UG2pG4CxWN71"
   },
   "source": [
    "**By observing train.csv we can find：**\n",
    "\n",
    "* data_time should be useful for our predictions, so we need to convert it.\n",
    "* Most of the feature values are integer and floating point, so we can't do much feature engineering. For example, user_location_country is not the name of the country but is an integer value. This makes it difficult to construct new features because we don't know what that value really means."
   ]
  },
  {
   "cell_type": "code",
   "execution_count": 3,
   "metadata": {
    "colab": {},
    "colab_type": "code",
    "id": "rhMXOgu_VJBn"
   },
   "outputs": [
    {
     "name": "stdout",
     "output_type": "stream",
     "text": [
      "   id            date_time  site_name  posa_continent  user_location_country  \\\n",
      "0   0  2015-09-03 17:09:54          2               3                     66   \n",
      "1   1  2015-09-24 17:38:35          2               3                     66   \n",
      "2   2  2015-06-07 15:53:02          2               3                     66   \n",
      "3   3  2015-09-14 14:49:10          2               3                     66   \n",
      "4   4  2015-07-17 09:32:04          2               3                     66   \n",
      "\n",
      "   user_location_region  user_location_city  orig_destination_distance  \\\n",
      "0                   174               37449                  5539.0567   \n",
      "1                   174               37449                  5873.2923   \n",
      "2                   142               17440                  3975.9776   \n",
      "3                   258               34156                  1508.5975   \n",
      "4                   467               36345                    66.7913   \n",
      "\n",
      "   user_id  is_mobile      ...          srch_ci     srch_co srch_adults_cnt  \\\n",
      "0        1          1      ...       2016-05-19  2016-05-23               2   \n",
      "1        1          1      ...       2016-05-12  2016-05-15               2   \n",
      "2       20          0      ...       2015-07-26  2015-07-27               4   \n",
      "3       28          0      ...       2015-09-14  2015-09-16               2   \n",
      "4       50          0      ...       2015-07-22  2015-07-23               2   \n",
      "\n",
      "  srch_children_cnt  srch_rm_cnt  srch_destination_id  \\\n",
      "0                 0            1                12243   \n",
      "1                 0            1                14474   \n",
      "2                 0            1                11353   \n",
      "3                 0            1                 8250   \n",
      "4                 0            1                11812   \n",
      "\n",
      "   srch_destination_type_id  hotel_continent  hotel_country  hotel_market  \n",
      "0                         6                6            204            27  \n",
      "1                         7                6            204          1540  \n",
      "2                         1                2             50           699  \n",
      "3                         1                2             50           628  \n",
      "4                         1                2             50           538  \n",
      "\n",
      "[5 rows x 22 columns]\n",
      "(2528243, 22)\n",
      "<class 'pandas.core.frame.DataFrame'>\n",
      "RangeIndex: 2528243 entries, 0 to 2528242\n",
      "Data columns (total 22 columns):\n",
      "id                           int64\n",
      "date_time                    object\n",
      "site_name                    int64\n",
      "posa_continent               int64\n",
      "user_location_country        int64\n",
      "user_location_region         int64\n",
      "user_location_city           int64\n",
      "orig_destination_distance    float64\n",
      "user_id                      int64\n",
      "is_mobile                    int64\n",
      "is_package                   int64\n",
      "channel                      int64\n",
      "srch_ci                      object\n",
      "srch_co                      object\n",
      "srch_adults_cnt              int64\n",
      "srch_children_cnt            int64\n",
      "srch_rm_cnt                  int64\n",
      "srch_destination_id          int64\n",
      "srch_destination_type_id     int64\n",
      "hotel_continent              int64\n",
      "hotel_country                int64\n",
      "hotel_market                 int64\n",
      "dtypes: float64(1), int64(18), object(3)\n",
      "memory usage: 424.4+ MB\n",
      "None\n"
     ]
    }
   ],
   "source": [
    "import pandas as pd\n",
    "df_test = pd.read_csv(\"test.csv\")\n",
    "print(df_test.head())\n",
    "print(df_test.shape)\n",
    "print(df_test.info())"
   ]
  },
  {
   "cell_type": "markdown",
   "metadata": {
    "colab_type": "text",
    "id": "i03s_9i9Wx7p"
   },
   "source": [
    "**By observing test.csv we can find：**\n",
    "\n",
    "* The date of test.csv is later than train.csv, and the data page confirms this. The date of the test dataset starts in 2015, and the date of the training dataset is from 2013 to 2014.\n",
    "* It seems that the user ids of test.csv seems to be a subset of the train.csv user ids, which is a cross-integrated tree range. We will confirm this later.\n",
    "* The value of the is_booking column in test.csv is always 1, and the data page can confirm this.\n"
   ]
  },
  {
   "cell_type": "code",
   "execution_count": 5,
   "metadata": {
    "colab": {
     "base_uri": "https://localhost:8080/",
     "height": 521
    },
    "colab_type": "code",
    "executionInfo": {
     "elapsed": 2822,
     "status": "ok",
     "timestamp": 1542318469590,
     "user": {
      "displayName": "Xiaorui Tang",
      "photoUrl": "",
      "userId": "00439355781158116921"
     },
     "user_tz": 300
    },
    "id": "eGF0-zxoTCbA",
    "outputId": "90317598-ba04-42cd-c4c9-12d668ab352a"
   },
   "outputs": [
    {
     "name": "stdout",
     "output_type": "stream",
     "text": [
      "   srch_destination_id        d1        d2        d3        d4        d5  \\\n",
      "0                    0 -2.198657 -2.198657 -2.198657 -2.198657 -2.198657   \n",
      "1                    1 -2.181690 -2.181690 -2.181690 -2.082564 -2.181690   \n",
      "2                    2 -2.183490 -2.224164 -2.224164 -2.189562 -2.105819   \n",
      "3                    3 -2.177409 -2.177409 -2.177409 -2.177409 -2.177409   \n",
      "4                    4 -2.189562 -2.187783 -2.194008 -2.171153 -2.152303   \n",
      "\n",
      "         d6        d7        d8        d9    ...         d140      d141  \\\n",
      "0 -1.897627 -2.198657 -2.198657 -1.897627    ...    -2.198657 -2.198657   \n",
      "1 -2.165028 -2.181690 -2.181690 -2.031597    ...    -2.165028 -2.181690   \n",
      "2 -2.075407 -2.224164 -2.118483 -2.140393    ...    -2.224164 -2.224164   \n",
      "3 -2.115485 -2.177409 -2.177409 -2.177409    ...    -2.161081 -2.177409   \n",
      "4 -2.056618 -2.194008 -2.194008 -2.145911    ...    -2.187356 -2.194008   \n",
      "\n",
      "       d142      d143      d144      d145      d146      d147      d148  \\\n",
      "0 -2.198657 -2.198657 -2.198657 -2.198657 -2.198657 -2.198657 -2.198657   \n",
      "1 -2.165028 -2.181690 -2.181690 -2.165028 -2.181690 -2.181690 -2.181690   \n",
      "2 -2.196379 -2.224164 -2.192009 -2.224164 -2.224164 -2.224164 -2.224164   \n",
      "3 -2.177409 -2.177409 -2.177409 -2.177409 -2.177409 -2.177409 -2.177409   \n",
      "4 -2.191779 -2.194008 -2.194008 -2.185161 -2.194008 -2.194008 -2.194008   \n",
      "\n",
      "       d149  \n",
      "0 -2.198657  \n",
      "1 -2.181690  \n",
      "2 -2.057548  \n",
      "3 -2.177409  \n",
      "4 -2.188037  \n",
      "\n",
      "[5 rows x 150 columns]\n",
      "(62106, 150)\n"
     ]
    }
   ],
   "source": [
    "# Load the destination dataset\n",
    "df_dest = pd.read_csv(\"destinations.csv\")\n",
    "print(df_dest.head())\n",
    "print(df_dest.shape)"
   ]
  },
  {
   "cell_type": "markdown",
   "metadata": {
    "colab_type": "text",
    "id": "-dwc9R01eqZ8"
   },
   "source": [
    "**By observing destinations.csv we can find：**\n",
    "\n",
    "* Destinations contains an id associated with srch_destination_id and 149 columns of latent information.\n",
    "* Expedia does not tell us the true meaning of each latent feature, but it can be assumed that some of the components of the purpose and purpose are like names, descriptions, or others. These hidden features will be converted from values, so they will become anonymous"
   ]
  },
  {
   "cell_type": "markdown",
   "metadata": {
    "colab_type": "text",
    "id": "ZNLjvMYRXaZN"
   },
   "source": [
    "**Hotel clusters：**\n",
    "\n",
    "We can use the value_counts method to preliminarily calculate the distribution of cluster:"
   ]
  },
  {
   "cell_type": "code",
   "execution_count": 6,
   "metadata": {
    "colab": {},
    "colab_type": "code",
    "id": "C-qoPYQ5YUpF"
   },
   "outputs": [
    {
     "data": {
      "text/plain": [
       "91    1043720\n",
       "41     772743\n",
       "48     754033\n",
       "64     704734\n",
       "65     670960\n",
       "5      620194\n",
       "98     589178\n",
       "59     570291\n",
       "42     551605\n",
       "21     550092\n",
       "70     545572\n",
       "18     545284\n",
       "83     534132\n",
       "46     534038\n",
       "25     530591\n",
       "62     518809\n",
       "95     509266\n",
       "28     507016\n",
       "68     503797\n",
       "82     503755\n",
       "37     496061\n",
       "50     489892\n",
       "30     489287\n",
       "9      488328\n",
       "58     483253\n",
       "97     479446\n",
       "16     477868\n",
       "72     457463\n",
       "1      452694\n",
       "99     444887\n",
       "       ...   \n",
       "19     282893\n",
       "84     278264\n",
       "66     273505\n",
       "38     269246\n",
       "87     260398\n",
       "23     259233\n",
       "12     259022\n",
       "31     257587\n",
       "67     255946\n",
       "43     253578\n",
       "7      252447\n",
       "54     250745\n",
       "92     244343\n",
       "89     243560\n",
       "45     241408\n",
       "49     240124\n",
       "3      225250\n",
       "80     220218\n",
       "60     217919\n",
       "71     216054\n",
       "93     214293\n",
       "86     209054\n",
       "14     192299\n",
       "75     165226\n",
       "24     164127\n",
       "35     139122\n",
       "53     134812\n",
       "88     107784\n",
       "27     105040\n",
       "74      48355\n",
       "Name: hotel_cluster, Length: 100, dtype: int64"
      ]
     },
     "execution_count": 6,
     "metadata": {},
     "output_type": "execute_result"
    }
   ],
   "source": [
    "df_train[\"hotel_cluster\"].value_counts()"
   ]
  },
  {
   "cell_type": "markdown",
   "metadata": {
    "colab_type": "text",
    "id": "ZEPpw844X2tx"
   },
   "source": [
    "It can be seen that the number of hotels in each cluster is fairly evenly distributed, which does not show any link between the cluster number and the number."
   ]
  },
  {
   "cell_type": "markdown",
   "metadata": {
    "colab_type": "text",
    "id": "JXOwgFkMYu2w"
   },
   "source": [
    "**Explore user_id in training and test data:**\n",
    "\n",
    "Finally, let's verify our hypothesis that all user ids in the test dataset can be found in the train dataset."
   ]
  },
  {
   "cell_type": "code",
   "execution_count": 7,
   "metadata": {
    "colab": {},
    "colab_type": "code",
    "id": "WYGn8Xd1zfja"
   },
   "outputs": [
    {
     "name": "stdout",
     "output_type": "stream",
     "text": [
      "1181577\n",
      "1181577\n"
     ]
    }
   ],
   "source": [
    "test_ids = set(df_test.user_id.unique())\n",
    "train_ids = set(df_train.user_id.unique())\n",
    "intersection_count = len(test_ids & train_ids)\n",
    "print(intersection_count) \n",
    "print(len(test_ids))"
   ]
  },
  {
   "cell_type": "markdown",
   "metadata": {
    "colab_type": "text",
    "id": "_Ol5qO7OR9i_"
   },
   "source": [
    "This indicates that many users just browsed but did not actually book."
   ]
  },
  {
   "cell_type": "code",
   "execution_count": 8,
   "metadata": {
    "colab": {},
    "colab_type": "code",
    "id": "7OzefmmlYb16"
   },
   "outputs": [
    {
     "data": {
      "text/plain": [
       "0    34669600\n",
       "1     3000693\n",
       "Name: is_booking, dtype: int64"
      ]
     },
     "execution_count": 8,
     "metadata": {},
     "output_type": "execute_result"
    }
   ],
   "source": [
    "df_train['is_booking'].value_counts()"
   ]
  }
 ],
 "metadata": {
  "colab": {
   "collapsed_sections": [],
   "name": "Dataset Analysis.ipynb",
   "provenance": [],
   "version": "0.3.2"
  },
  "kernelspec": {
   "display_name": "Python 2",
   "language": "python",
   "name": "python2"
  },
  "language_info": {
   "codemirror_mode": {
    "name": "ipython",
    "version": 2
   },
   "file_extension": ".py",
   "mimetype": "text/x-python",
   "name": "python",
   "nbconvert_exporter": "python",
   "pygments_lexer": "ipython2",
   "version": "2.7.12"
  }
 },
 "nbformat": 4,
 "nbformat_minor": 1
}
